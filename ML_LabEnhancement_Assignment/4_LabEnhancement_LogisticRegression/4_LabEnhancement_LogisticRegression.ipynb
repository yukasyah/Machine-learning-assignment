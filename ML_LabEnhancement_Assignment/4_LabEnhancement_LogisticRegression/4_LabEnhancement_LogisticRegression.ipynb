{
 "cells": [
  {
   "cell_type": "markdown",
   "id": "df83e8b8-8439-4cb2-b126-7e160c212a8f",
   "metadata": {},
   "source": [
    "# Logistic Regression\n",
    "\n",
    "Perform logistic regression on real world dataset"
   ]
  },
  {
   "cell_type": "markdown",
   "id": "ab93bab5-f221-41a0-9eb3-33f1121ecee7",
   "metadata": {},
   "source": [
    "**Lecture section: TC1L**\n",
    "\n",
    "**Tutorial section: TT2L**\n",
    "\n",
    "| | Student ID     | Student Name                        \n",
    "|--:|:-------------|:------------------------------------\n",
    "| 1 | 1211101888   | SHAHNAZ BINTI HUSAIN SUKRI          \n",
    "| 2 | 1221303909   | MUHAMMAD UKASYAH BIN MD YUSOF           "
   ]
  },
  {
   "cell_type": "code",
   "execution_count": 18,
   "id": "15a9173b-257d-4343-93f1-16b476f2661e",
   "metadata": {},
   "outputs": [],
   "source": [
    "import numpy as np\n",
    "import pandas as pd\n",
    "\n",
    "from sklearn.model_selection import train_test_split\n",
    "from sklearn.linear_model import LogisticRegression\n",
    "from sklearn.metrics import classification_report, confusion_matrix, accuracy_score, roc_curve, auc\n",
    "import matplotlib.pyplot as plt"
   ]
  },
  {
   "cell_type": "code",
   "execution_count": 20,
   "id": "b2e96dc8-ec92-4a98-ab4d-1cd5d0b1904d",
   "metadata": {},
   "outputs": [
    {
     "data": {
      "text/html": [
       "<div>\n",
       "<style scoped>\n",
       "    .dataframe tbody tr th:only-of-type {\n",
       "        vertical-align: middle;\n",
       "    }\n",
       "\n",
       "    .dataframe tbody tr th {\n",
       "        vertical-align: top;\n",
       "    }\n",
       "\n",
       "    .dataframe thead th {\n",
       "        text-align: right;\n",
       "    }\n",
       "</style>\n",
       "<table border=\"1\" class=\"dataframe\">\n",
       "  <thead>\n",
       "    <tr style=\"text-align: right;\">\n",
       "      <th></th>\n",
       "      <th>male</th>\n",
       "      <th>age</th>\n",
       "      <th>education</th>\n",
       "      <th>currentSmoker</th>\n",
       "      <th>cigsPerDay</th>\n",
       "      <th>BPMeds</th>\n",
       "      <th>prevalentStroke</th>\n",
       "      <th>prevalentHyp</th>\n",
       "      <th>diabetes</th>\n",
       "      <th>totChol</th>\n",
       "      <th>sysBP</th>\n",
       "      <th>diaBP</th>\n",
       "      <th>BMI</th>\n",
       "      <th>heartRate</th>\n",
       "      <th>glucose</th>\n",
       "      <th>TenYearCHD</th>\n",
       "    </tr>\n",
       "  </thead>\n",
       "  <tbody>\n",
       "    <tr>\n",
       "      <th>0</th>\n",
       "      <td>1</td>\n",
       "      <td>39</td>\n",
       "      <td>4.0</td>\n",
       "      <td>0</td>\n",
       "      <td>0.0</td>\n",
       "      <td>0.0</td>\n",
       "      <td>0</td>\n",
       "      <td>0</td>\n",
       "      <td>0</td>\n",
       "      <td>195.0</td>\n",
       "      <td>106.0</td>\n",
       "      <td>70.0</td>\n",
       "      <td>26.97</td>\n",
       "      <td>80.0</td>\n",
       "      <td>77.0</td>\n",
       "      <td>0</td>\n",
       "    </tr>\n",
       "    <tr>\n",
       "      <th>1</th>\n",
       "      <td>0</td>\n",
       "      <td>46</td>\n",
       "      <td>2.0</td>\n",
       "      <td>0</td>\n",
       "      <td>0.0</td>\n",
       "      <td>0.0</td>\n",
       "      <td>0</td>\n",
       "      <td>0</td>\n",
       "      <td>0</td>\n",
       "      <td>250.0</td>\n",
       "      <td>121.0</td>\n",
       "      <td>81.0</td>\n",
       "      <td>28.73</td>\n",
       "      <td>95.0</td>\n",
       "      <td>76.0</td>\n",
       "      <td>0</td>\n",
       "    </tr>\n",
       "    <tr>\n",
       "      <th>2</th>\n",
       "      <td>1</td>\n",
       "      <td>48</td>\n",
       "      <td>1.0</td>\n",
       "      <td>1</td>\n",
       "      <td>20.0</td>\n",
       "      <td>0.0</td>\n",
       "      <td>0</td>\n",
       "      <td>0</td>\n",
       "      <td>0</td>\n",
       "      <td>245.0</td>\n",
       "      <td>127.5</td>\n",
       "      <td>80.0</td>\n",
       "      <td>25.34</td>\n",
       "      <td>75.0</td>\n",
       "      <td>70.0</td>\n",
       "      <td>0</td>\n",
       "    </tr>\n",
       "    <tr>\n",
       "      <th>3</th>\n",
       "      <td>0</td>\n",
       "      <td>61</td>\n",
       "      <td>3.0</td>\n",
       "      <td>1</td>\n",
       "      <td>30.0</td>\n",
       "      <td>0.0</td>\n",
       "      <td>0</td>\n",
       "      <td>1</td>\n",
       "      <td>0</td>\n",
       "      <td>225.0</td>\n",
       "      <td>150.0</td>\n",
       "      <td>95.0</td>\n",
       "      <td>28.58</td>\n",
       "      <td>65.0</td>\n",
       "      <td>103.0</td>\n",
       "      <td>1</td>\n",
       "    </tr>\n",
       "    <tr>\n",
       "      <th>4</th>\n",
       "      <td>0</td>\n",
       "      <td>46</td>\n",
       "      <td>3.0</td>\n",
       "      <td>1</td>\n",
       "      <td>23.0</td>\n",
       "      <td>0.0</td>\n",
       "      <td>0</td>\n",
       "      <td>0</td>\n",
       "      <td>0</td>\n",
       "      <td>285.0</td>\n",
       "      <td>130.0</td>\n",
       "      <td>84.0</td>\n",
       "      <td>23.10</td>\n",
       "      <td>85.0</td>\n",
       "      <td>85.0</td>\n",
       "      <td>0</td>\n",
       "    </tr>\n",
       "  </tbody>\n",
       "</table>\n",
       "</div>"
      ],
      "text/plain": [
       "   male  age  education  currentSmoker  cigsPerDay  BPMeds  prevalentStroke  \\\n",
       "0     1   39        4.0              0         0.0     0.0                0   \n",
       "1     0   46        2.0              0         0.0     0.0                0   \n",
       "2     1   48        1.0              1        20.0     0.0                0   \n",
       "3     0   61        3.0              1        30.0     0.0                0   \n",
       "4     0   46        3.0              1        23.0     0.0                0   \n",
       "\n",
       "   prevalentHyp  diabetes  totChol  sysBP  diaBP    BMI  heartRate  glucose  \\\n",
       "0             0         0    195.0  106.0   70.0  26.97       80.0     77.0   \n",
       "1             0         0    250.0  121.0   81.0  28.73       95.0     76.0   \n",
       "2             0         0    245.0  127.5   80.0  25.34       75.0     70.0   \n",
       "3             1         0    225.0  150.0   95.0  28.58       65.0    103.0   \n",
       "4             0         0    285.0  130.0   84.0  23.10       85.0     85.0   \n",
       "\n",
       "   TenYearCHD  \n",
       "0           0  \n",
       "1           0  \n",
       "2           0  \n",
       "3           1  \n",
       "4           0  "
      ]
     },
     "execution_count": 20,
     "metadata": {},
     "output_type": "execute_result"
    }
   ],
   "source": [
    "# load dataset\n",
    "df = pd.read_csv(\"framingham.csv\")\n",
    "df.head()"
   ]
  },
  {
   "cell_type": "code",
   "execution_count": 21,
   "id": "1686e534-b9c8-4c7d-8080-3339c22f05ee",
   "metadata": {},
   "outputs": [
    {
     "name": "stdout",
     "output_type": "stream",
     "text": [
      "male               0\n",
      "age                0\n",
      "education          0\n",
      "currentSmoker      0\n",
      "cigsPerDay         0\n",
      "BPMeds             0\n",
      "prevalentStroke    0\n",
      "prevalentHyp       0\n",
      "diabetes           0\n",
      "totChol            0\n",
      "sysBP              0\n",
      "diaBP              0\n",
      "BMI                0\n",
      "heartRate          0\n",
      "glucose            0\n",
      "TenYearCHD         0\n",
      "dtype: int64\n"
     ]
    }
   ],
   "source": [
    "# Data pre-processing\n",
    "# Dropping NaN values\n",
    "df = df.dropna()\n",
    "\n",
    "print(df.isnull().sum())"
   ]
  },
  {
   "cell_type": "code",
   "execution_count": 22,
   "id": "f6427dd2-9caa-490d-91b7-8c5a537cbffa",
   "metadata": {},
   "outputs": [],
   "source": [
    "# split dataset in features and target variable\n",
    "feature_cols = ['male', 'age', 'education', 'currentSmoker', 'cigsPerDay', 'BPMeds', 'prevalentStroke', 'prevalentHyp', 'diabetes', 'totChol', 'sysBP', 'diaBP', 'BMI', 'heartRate', 'glucose']\n",
    "\n",
    "X = df[feature_cols]  # Features\n",
    "y = df['TenYearCHD']  #  10 year risk of coronary heart disease CHD (binary: “1”, means “Yes”, “0” means “No”)\n",
    "\n",
    "# Standardize the features\n",
    "from sklearn.preprocessing import StandardScaler\n",
    "scaler = StandardScaler()\n",
    "X = scaler.fit_transform(X)"
   ]
  },
  {
   "cell_type": "code",
   "execution_count": 23,
   "id": "cd774ed5-4762-4ed8-bd32-fef7fb0b54c0",
   "metadata": {},
   "outputs": [],
   "source": [
    "# split X and y into training and testing sets\n",
    "X_train, X_test, y_train, y_test = train_test_split(X, y, test_size=0.25, random_state = 16)"
   ]
  },
  {
   "cell_type": "code",
   "execution_count": 24,
   "id": "a9a241da-0a3b-4aeb-9106-1d5edb6c614f",
   "metadata": {},
   "outputs": [
    {
     "name": "stdout",
     "output_type": "stream",
     "text": [
      "[0 0 0 0 0]\n",
      "[1 1 0 0 0]\n"
     ]
    }
   ],
   "source": [
    "# instantiate the model (using the default parameters)\n",
    "from sklearn.linear_model import LogisticRegression\n",
    "\n",
    "model = LogisticRegression(random_state = 16, max_iter = 1600)\n",
    "model.fit(X_train, y_train)\n",
    "\n",
    "# Test using test set\n",
    "y_pred = model.predict(X_test)\n",
    "\n",
    "#Observing prediction value against real value\n",
    "some_data = X_test[:5]    # take first 5 entries from X_test\n",
    "predicted_value = model.predict(some_data)\n",
    "print(predicted_value)\n",
    "\n",
    "actual_value = y_test.iloc[:5].values     # take first 5 entries from y_test, which are the true values\n",
    "print(actual_value)"
   ]
  },
  {
   "cell_type": "code",
   "execution_count": 29,
   "id": "9a339784-7086-4c3d-bcb4-c85286303eac",
   "metadata": {},
   "outputs": [],
   "source": [
    "import seaborn as sns\n",
    "\n",
    "def plot_confusion_matrix(confusion_matrix,\n",
    "                          figure_size = (3, 3),\n",
    "                          title_font_size = 15,\n",
    "                          font_size = 12):\n",
    "\n",
    "  num_classes = confusion_matrix.shape[0]\n",
    "  fig, ax = plt.subplots(figsize = figure_size)\n",
    "\n",
    "  # class_names=[0,1] # name of classes\n",
    "  # tick_marks = np.arange(len(class_names))\n",
    "  class_names = np.arange(num_classes) # name of classes\n",
    "  tick_marks  = np.arange(num_classes)\n",
    "\n",
    "  plt.xticks(tick_marks, class_names)\n",
    "  plt.yticks(tick_marks, class_names)\n",
    "\n",
    "  # create heatmap\n",
    "  sns.heatmap(pd.DataFrame(confusion_matrix),\n",
    "              annot = True, cmap = \"YlGnBu\", fmt = 'g')\n",
    "\n",
    "  ax.xaxis.set_label_position(\"top\")\n",
    "  plt.tight_layout()\n",
    "  plt.title('Confusion matrix', y = 1.1, fontsize = title_font_size)\n",
    "  plt.ylabel('Actual Labels', fontsize = font_size)\n",
    "  plt.xlabel('Predicted Labels', fontsize = font_size)"
   ]
  },
  {
   "cell_type": "code",
   "execution_count": 25,
   "id": "ef22ade7-0784-48b8-b972-2b74d46f8c87",
   "metadata": {},
   "outputs": [
    {
     "name": "stdout",
     "output_type": "stream",
     "text": [
      "[[765   9]\n",
      " [129  11]]\n"
     ]
    },
    {
     "data": {
      "image/png": "[encoded data removed]",
      "text/plain": [
       "<Figure size 300x300 with 2 Axes>"
      ]
     },
     "metadata": {},
     "output_type": "display_data"
    }
   ],
   "source": [
    "# Confusion matrix\n",
    "c_matrix = confusion_matrix(y_test, y_pred)\n",
    "print(c_matrix)\n",
    "\n",
    "plot_confusion_matrix(c_matrix)"
   ]
  },
  {
   "cell_type": "code",
   "execution_count": 26,
   "id": "7981fd46-e03b-4f98-833d-046a37b6142e",
   "metadata": {},
   "outputs": [
    {
     "name": "stdout",
     "output_type": "stream",
     "text": [
      "              precision    recall  f1-score   support\n",
      "\n",
      "           0       0.86      0.99      0.92       774\n",
      "           1       0.55      0.08      0.14       140\n",
      "\n",
      "    accuracy                           0.85       914\n",
      "   macro avg       0.70      0.53      0.53       914\n",
      "weighted avg       0.81      0.85      0.80       914\n",
      "\n"
     ]
    }
   ],
   "source": [
    "# Classification report\n",
    "report = classification_report(y_test, y_pred)\n",
    "print(report)"
   ]
  },
  {
   "cell_type": "code",
   "execution_count": 27,
   "id": "a59c06ae-82b5-40ea-aebe-ecd6a8187844",
   "metadata": {},
   "outputs": [
    {
     "name": "stdout",
     "output_type": "stream",
     "text": [
      "Accuracy: 0.849015317286652\n"
     ]
    }
   ],
   "source": [
    "# Accuracy score\n",
    "accuracy = accuracy_score(y_test, y_pred)\n",
    "print(f\"Accuracy: {accuracy}\")"
   ]
  },
  {
   "cell_type": "markdown",
   "id": "7ad41e33-4f8e-4ebb-8c2e-8f74ae17a8de",
   "metadata": {},
   "source": [
    "- Model Strength: The model has a high accuracy, mainly due to its ability to correctly classify negative instances.\n",
    "- Model Weakness: The model performs poorly in identifying positive instances (low recall and F1 score). This could be due to class imbalance or insufficient features that distinguish between the positive and negative classes."
   ]
  },
  {
   "cell_type": "code",
   "execution_count": 28,
   "id": "fe644ba0-f67a-4be8-b2c1-ea0a9b54ee70",
   "metadata": {},
   "outputs": [
    {
     "data": {
      "image/png": "[encoded data removed]",
      "text/plain": [
       "<Figure size 640x480 with 1 Axes>"
      ]
     },
     "metadata": {},
     "output_type": "display_data"
    }
   ],
   "source": [
    "from sklearn.metrics import roc_curve, roc_auc_score\n",
    "\n",
    "y_pred_proba = model.predict_proba(X_test)[::, 1]\n",
    "\n",
    "fpr, tpr, _ = roc_curve(y_test,  y_pred_proba)\n",
    "\n",
    "auc = roc_auc_score(y_test, y_pred_proba)\n",
    "\n",
    "plt.plot(fpr, tpr, label=\"data 1, auc = \" + str(auc))\n",
    "\n",
    "plt.legend(loc = 4)\n",
    "\n",
    "plt.show()"
   ]
  },
  {
   "cell_type": "markdown",
   "id": "b7b671e9-ab9f-436f-a4cc-6d21e1aa8762",
   "metadata": {},
   "source": [
    "The AUC of 0.7444 indicates a reasonably good model performance. It shows that the model is capable of distinguishing between the positive and negative classes better than random guessing (AUC = 0.5)."
   ]
  },
  {
   "cell_type": "markdown",
   "id": "77a7e8f3-bc1c-433a-84ec-312da512cb6d",
   "metadata": {},
   "source": [
    "### References\n",
    "\n",
    "**Dataset Source:** [Heart Disease](https://www.kaggle.com/datasets/dileep070/heart-disease-prediction-using-logistic-regression)"
   ]
  }
 ],
 "metadata": {
  "kernelspec": {
   "display_name": "Python 3 (ipykernel)",
   "language": "python",
   "name": "python3"
  },
  "language_info": {
   "codemirror_mode": {
    "name": "ipython",
    "version": 3
   },
   "file_extension": ".py",
   "mimetype": "text/x-python",
   "name": "python",
   "nbconvert_exporter": "python",
   "pygments_lexer": "ipython3",
   "version": "3.11.7"
  }
 },
 "nbformat": 4,
 "nbformat_minor": 5
}
