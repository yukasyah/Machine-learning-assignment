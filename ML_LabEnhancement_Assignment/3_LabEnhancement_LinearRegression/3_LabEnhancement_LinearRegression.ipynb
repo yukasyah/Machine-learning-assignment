{
 "cells": [
  {
   "cell_type": "markdown",
   "id": "e8f3a36b-725b-456e-bf53-f79c30b6ee49",
   "metadata": {},
   "source": [
    "# Linear Regression\n",
    "\n",
    "Perform linear regression using real world dataset"
   ]
  },
  {
   "cell_type": "markdown",
   "id": "4086e1e8-209c-41b8-a7f0-dab9156e9c29",
   "metadata": {},
   "source": [
    "**Lecture section: TC1L**\n",
    "\n",
    "**Tutorial section: TT2L**\n",
    "\n",
    "| | Student ID     | Student Name                        \n",
    "|--:|:-------------|:------------------------------------\n",
    "| 1 | 1211101888   | SHAHNAZ BINTI HUSAIN SUKRI          \n",
    "| 2 | 1221303909   | MUHAMMAD UKASYAH BIN MD YUSOF           "
   ]
  },
  {
   "cell_type": "code",
   "execution_count": 2,
   "id": "487dfc27-57a0-431e-85f8-8b766acd5f01",
   "metadata": {},
   "outputs": [],
   "source": [
    "import numpy as np\n",
    "import pandas as pd\n",
    "import matplotlib.pyplot as plt\n",
    "import seaborn as sns\n",
    "from sklearn.linear_model import LinearRegression\n",
    "\n",
    "import warnings\n",
    "warnings.filterwarnings('ignore')"
   ]
  },
  {
   "cell_type": "code",
   "execution_count": 3,
   "id": "3fcb8c20-7f27-4b5f-9b27-ba6a8ccd82bb",
   "metadata": {},
   "outputs": [
    {
     "data": {
      "text/html": [
       "<div>\n",
       "<style scoped>\n",
       "    .dataframe tbody tr th:only-of-type {\n",
       "        vertical-align: middle;\n",
       "    }\n",
       "\n",
       "    .dataframe tbody tr th {\n",
       "        vertical-align: top;\n",
       "    }\n",
       "\n",
       "    .dataframe thead th {\n",
       "        text-align: right;\n",
       "    }\n",
       "</style>\n",
       "<table border=\"1\" class=\"dataframe\">\n",
       "  <thead>\n",
       "    <tr style=\"text-align: right;\">\n",
       "      <th></th>\n",
       "      <th>Serial No.</th>\n",
       "      <th>GRE Score</th>\n",
       "      <th>TOEFL Score</th>\n",
       "      <th>University Rating</th>\n",
       "      <th>SOP</th>\n",
       "      <th>LOR</th>\n",
       "      <th>CGPA</th>\n",
       "      <th>Research</th>\n",
       "      <th>Chance of Admit</th>\n",
       "    </tr>\n",
       "  </thead>\n",
       "  <tbody>\n",
       "    <tr>\n",
       "      <th>0</th>\n",
       "      <td>1</td>\n",
       "      <td>337</td>\n",
       "      <td>118</td>\n",
       "      <td>4</td>\n",
       "      <td>4.5</td>\n",
       "      <td>4.5</td>\n",
       "      <td>9.65</td>\n",
       "      <td>1</td>\n",
       "      <td>0.92</td>\n",
       "    </tr>\n",
       "    <tr>\n",
       "      <th>1</th>\n",
       "      <td>2</td>\n",
       "      <td>324</td>\n",
       "      <td>107</td>\n",
       "      <td>4</td>\n",
       "      <td>4.0</td>\n",
       "      <td>4.5</td>\n",
       "      <td>8.87</td>\n",
       "      <td>1</td>\n",
       "      <td>0.76</td>\n",
       "    </tr>\n",
       "    <tr>\n",
       "      <th>2</th>\n",
       "      <td>3</td>\n",
       "      <td>316</td>\n",
       "      <td>104</td>\n",
       "      <td>3</td>\n",
       "      <td>3.0</td>\n",
       "      <td>3.5</td>\n",
       "      <td>8.00</td>\n",
       "      <td>1</td>\n",
       "      <td>0.72</td>\n",
       "    </tr>\n",
       "    <tr>\n",
       "      <th>3</th>\n",
       "      <td>4</td>\n",
       "      <td>322</td>\n",
       "      <td>110</td>\n",
       "      <td>3</td>\n",
       "      <td>3.5</td>\n",
       "      <td>2.5</td>\n",
       "      <td>8.67</td>\n",
       "      <td>1</td>\n",
       "      <td>0.80</td>\n",
       "    </tr>\n",
       "    <tr>\n",
       "      <th>4</th>\n",
       "      <td>5</td>\n",
       "      <td>314</td>\n",
       "      <td>103</td>\n",
       "      <td>2</td>\n",
       "      <td>2.0</td>\n",
       "      <td>3.0</td>\n",
       "      <td>8.21</td>\n",
       "      <td>0</td>\n",
       "      <td>0.65</td>\n",
       "    </tr>\n",
       "  </tbody>\n",
       "</table>\n",
       "</div>"
      ],
      "text/plain": [
       "   Serial No.  GRE Score  TOEFL Score  University Rating  SOP  LOR   CGPA  \\\n",
       "0           1        337          118                  4  4.5   4.5  9.65   \n",
       "1           2        324          107                  4  4.0   4.5  8.87   \n",
       "2           3        316          104                  3  3.0   3.5  8.00   \n",
       "3           4        322          110                  3  3.5   2.5  8.67   \n",
       "4           5        314          103                  2  2.0   3.0  8.21   \n",
       "\n",
       "   Research  Chance of Admit   \n",
       "0         1              0.92  \n",
       "1         1              0.76  \n",
       "2         1              0.72  \n",
       "3         1              0.80  \n",
       "4         0              0.65  "
      ]
     },
     "execution_count": 3,
     "metadata": {},
     "output_type": "execute_result"
    }
   ],
   "source": [
    "# Reads the cleaned dataset\n",
    "df = pd.read_csv('Admission_Predict.csv')\n",
    "df.head()"
   ]
  },
  {
   "cell_type": "code",
   "execution_count": 4,
   "id": "a8407a60-86d5-40ae-8974-529b31b0fdff",
   "metadata": {},
   "outputs": [
    {
     "data": {
      "text/html": [
       "<div>\n",
       "<style scoped>\n",
       "    .dataframe tbody tr th:only-of-type {\n",
       "        vertical-align: middle;\n",
       "    }\n",
       "\n",
       "    .dataframe tbody tr th {\n",
       "        vertical-align: top;\n",
       "    }\n",
       "\n",
       "    .dataframe thead th {\n",
       "        text-align: right;\n",
       "    }\n",
       "</style>\n",
       "<table border=\"1\" class=\"dataframe\">\n",
       "  <thead>\n",
       "    <tr style=\"text-align: right;\">\n",
       "      <th></th>\n",
       "      <th>GRE Score</th>\n",
       "      <th>TOEFL Score</th>\n",
       "      <th>University Rating</th>\n",
       "      <th>SOP</th>\n",
       "      <th>LOR</th>\n",
       "      <th>CGPA</th>\n",
       "      <th>Research</th>\n",
       "      <th>Chance of Admit</th>\n",
       "    </tr>\n",
       "  </thead>\n",
       "  <tbody>\n",
       "    <tr>\n",
       "      <th>0</th>\n",
       "      <td>337</td>\n",
       "      <td>118</td>\n",
       "      <td>4</td>\n",
       "      <td>4.5</td>\n",
       "      <td>4.5</td>\n",
       "      <td>9.65</td>\n",
       "      <td>1</td>\n",
       "      <td>0.92</td>\n",
       "    </tr>\n",
       "    <tr>\n",
       "      <th>1</th>\n",
       "      <td>324</td>\n",
       "      <td>107</td>\n",
       "      <td>4</td>\n",
       "      <td>4.0</td>\n",
       "      <td>4.5</td>\n",
       "      <td>8.87</td>\n",
       "      <td>1</td>\n",
       "      <td>0.76</td>\n",
       "    </tr>\n",
       "    <tr>\n",
       "      <th>2</th>\n",
       "      <td>316</td>\n",
       "      <td>104</td>\n",
       "      <td>3</td>\n",
       "      <td>3.0</td>\n",
       "      <td>3.5</td>\n",
       "      <td>8.00</td>\n",
       "      <td>1</td>\n",
       "      <td>0.72</td>\n",
       "    </tr>\n",
       "    <tr>\n",
       "      <th>3</th>\n",
       "      <td>322</td>\n",
       "      <td>110</td>\n",
       "      <td>3</td>\n",
       "      <td>3.5</td>\n",
       "      <td>2.5</td>\n",
       "      <td>8.67</td>\n",
       "      <td>1</td>\n",
       "      <td>0.80</td>\n",
       "    </tr>\n",
       "    <tr>\n",
       "      <th>4</th>\n",
       "      <td>314</td>\n",
       "      <td>103</td>\n",
       "      <td>2</td>\n",
       "      <td>2.0</td>\n",
       "      <td>3.0</td>\n",
       "      <td>8.21</td>\n",
       "      <td>0</td>\n",
       "      <td>0.65</td>\n",
       "    </tr>\n",
       "  </tbody>\n",
       "</table>\n",
       "</div>"
      ],
      "text/plain": [
       "   GRE Score  TOEFL Score  University Rating  SOP  LOR   CGPA  Research  \\\n",
       "0        337          118                  4  4.5   4.5  9.65         1   \n",
       "1        324          107                  4  4.0   4.5  8.87         1   \n",
       "2        316          104                  3  3.0   3.5  8.00         1   \n",
       "3        322          110                  3  3.5   2.5  8.67         1   \n",
       "4        314          103                  2  2.0   3.0  8.21         0   \n",
       "\n",
       "   Chance of Admit   \n",
       "0              0.92  \n",
       "1              0.76  \n",
       "2              0.72  \n",
       "3              0.80  \n",
       "4              0.65  "
      ]
     },
     "execution_count": 4,
     "metadata": {},
     "output_type": "execute_result"
    }
   ],
   "source": [
    "# Remove unrelated columns\n",
    "df = df.drop(columns=['Serial No.'], axis=1)\n",
    "\n",
    "df.head()"
   ]
  },
  {
   "cell_type": "code",
   "execution_count": 5,
   "id": "de119449-a664-4f5d-9ced-12fd7d263b03",
   "metadata": {},
   "outputs": [],
   "source": [
    "from sklearn.model_selection import train_test_split\n",
    "from sklearn.linear_model import LinearRegression\n",
    "from sklearn.model_selection import cross_validate\n",
    "from sklearn.preprocessing import StandardScaler\n",
    "\n",
    "# Select features and target variable\n",
    "features = ['GRE Score', 'TOEFL Score', 'University Rating', 'SOP', 'LOR ', 'CGPA', 'Research']\n",
    "target = 'Chance of Admit '\n",
    "\n",
    "X = df[features]\n",
    "y = df[target]\n",
    "\n",
    "# Scale data\n",
    "scaler = StandardScaler()\n",
    "X = scaler.fit_transform(X)"
   ]
  },
  {
   "cell_type": "code",
   "execution_count": 6,
   "id": "d2beeab4-217c-4344-83ff-ab1dbe0ebfa7",
   "metadata": {},
   "outputs": [],
   "source": [
    "# Split the data into training and testing sets\n",
    "X_train, X_test, y_train, y_test = train_test_split(X, y, random_state=1)"
   ]
  },
  {
   "cell_type": "code",
   "execution_count": 7,
   "id": "ebcee1f3-c144-46e6-94fa-7d542e4b0b52",
   "metadata": {},
   "outputs": [
    {
     "name": "stdout",
     "output_type": "stream",
     "text": [
      "[0.72298322 0.69528358 0.78934352 0.78213989 0.85310709]\n",
      "[0.67 0.64 0.8  0.81 0.86]\n"
     ]
    }
   ],
   "source": [
    "# Train a linear regression model\n",
    "reg = LinearRegression().fit(X_train, y_train)\n",
    "\n",
    "# Make predictions\n",
    "y_pred = reg.predict(X_test)\n",
    "\n",
    "#Observing prediction value against real value\n",
    "some_data = X_test[:5]    # take first 5 entries from X_test\n",
    "predicted_value = reg.predict(some_data)\n",
    "print(predicted_value)\n",
    "\n",
    "actual_value = y_test.iloc[:5].values     # take first 5 entries from y_test, which are the true values\n",
    "print(actual_value)"
   ]
  },
  {
   "cell_type": "code",
   "execution_count": 8,
   "id": "43d50b7e-27b4-4bad-b389-c50df0555bf6",
   "metadata": {},
   "outputs": [
    {
     "name": "stdout",
     "output_type": "stream",
     "text": [
      "Mean Absolute Error (MAE): 0.04328575086815425\n",
      "Mean Squared Error (MSE): 0.0041837570264952354\n",
      "R-squared (R2): 0.8163951846360172\n"
     ]
    }
   ],
   "source": [
    "from sklearn.metrics import r2_score, mean_absolute_error, mean_squared_error, make_scorer\n",
    "\n",
    "#Evaluate the model\n",
    "#MAE = the average of the absolute differences between the predicted and actual values.\n",
    "#MSE = measures the average squared difference between actual and predicted values\n",
    "#r2 = indicates the proportion of variance in the dependent variable that is predictable from the independent variables.\n",
    "mae = mean_absolute_error(y_test, y_pred)\n",
    "mse = mean_squared_error(y_test, y_pred)\n",
    "r2 = r2_score(y_test, y_pred)\n",
    "\n",
    "#Output the evaluation metrics\n",
    "print(f\"Mean Absolute Error (MAE): {mae}\")\n",
    "print(f\"Mean Squared Error (MSE): {mse}\")\n",
    "print(f\"R-squared (R2): {r2}\")\n"
   ]
  },
  {
   "cell_type": "code",
   "execution_count": 9,
   "id": "ecb4848a-34fd-4a77-92de-3d968d2695bc",
   "metadata": {},
   "outputs": [
    {
     "data": {
      "image/png": "[encoded data removed]",
      "text/plain": [
       "<Figure size 1000x600 with 1 Axes>"
      ]
     },
     "metadata": {},
     "output_type": "display_data"
    },
    {
     "name": "stdout",
     "output_type": "stream",
     "text": [
      "Cross Validition R2: 0.7375641057750304\n",
      "[0.06944095 0.04425817 0.04078066]\n",
      "Cross Validation MAE: 0.051493257583730266\n",
      "                   Coefficient\n",
      "CGPA                  0.067903\n",
      "LOR                   0.018706\n",
      "TOEFL Score           0.017300\n",
      "GRE Score             0.016284\n",
      "Research              0.014224\n",
      "University Rating     0.009020\n",
      "SOP                  -0.002590\n"
     ]
    }
   ],
   "source": [
    "#Plot predicted vs actual values\n",
    "plt.figure(figsize=(10, 6))\n",
    "plt.scatter(y_test, y_pred, alpha=0.7)\n",
    "plt.xlabel('Actual Values')\n",
    "plt.ylabel('Predicted Values')\n",
    "plt.title('Actual vs Predicted Values')\n",
    "plt.plot([y_test.min(), y_test.max()], [y_test.min(), y_test.max()], 'k--', lw=2)\n",
    "plt.show()\n",
    "\n",
    "#Perform cross-validation\n",
    "regmodel = LinearRegression()\n",
    "cv_results = cross_validate(regmodel, X, y, cv=3, return_train_score=False)\n",
    "cv_r2 = cv_results['test_score'].mean() # R square\n",
    "print(f'Cross Validition R2: {cv_r2}')\n",
    "\n",
    "mae_scorer = make_scorer(mean_absolute_error)\n",
    "cv_results = cross_validate(regmodel, X, y, cv=3, scoring=mae_scorer, return_train_score=False)\n",
    "print(cv_results['test_score'])\n",
    "cv_mae = cv_results['test_score'].mean()\n",
    "print(f'Cross Validation MAE: {cv_mae}')\n",
    "\n",
    "#Coefficients analysis\n",
    "coefficients = pd.DataFrame(reg.coef_, features, columns=['Coefficient'])\n",
    "coefficients.sort_values(by='Coefficient', ascending=False, inplace=True)\n",
    "print(coefficients)"
   ]
  },
  {
   "cell_type": "markdown",
   "id": "7f79ec0f-e8a6-4247-a5c1-8dba17582688",
   "metadata": {},
   "source": [
    "### Analysis\n",
    "\n",
    "- MAE: The model's predictions are off by approximately 0.0433 units. This indicates that the model is making relatively small errors when predicting the target variable. \n",
    "- R2: The value is close to 1, being the model has a relatively good fit\n",
    "- Predicted Value: Observing predicted value against actual values, we see that the predicted value is reasonably close to the actual values\n",
    "- Graph: The points are closely aligned around the dashed line, indicating that the model's predictions are fairly accurate.\n",
    "\n",
    "- Coefficients\n",
    "    - Higher CGPA, LOR (letter of recomendation), TOEFL score, GRE score, having reasearch experience and University rating are associated with higher chance of admissions"
   ]
  },
  {
   "cell_type": "code",
   "execution_count": 10,
   "id": "04815328-dbb1-4771-ad5a-0f8ce6d5de65",
   "metadata": {},
   "outputs": [
    {
     "name": "stdout",
     "output_type": "stream",
     "text": [
      "Future Predictions: [0.81459768 0.58954238]\n"
     ]
    }
   ],
   "source": [
    "# Future predictions\n",
    "future_data = pd.DataFrame({\n",
    "    'GRE Score': [320, 315],\n",
    "    'TOEFL Score': [110, 105],\n",
    "    'University Rating': [4, 2],\n",
    "    'SOP': [4.0, 3.5],\n",
    "    'LOR ': [4.0, 4.5],\n",
    "    'CGPA': [9.0, 7.5],\n",
    "    'Research': [1, 0]\n",
    "})\n",
    "\n",
    "# Standardize the future data\n",
    "future_data_scaled = scaler.transform(future_data)\n",
    "\n",
    "# Make predictions on future data\n",
    "future_predictions = reg.predict(future_data_scaled)\n",
    "\n",
    "# Display future predictions\n",
    "print(f\"Future Predictions: {future_predictions}\")"
   ]
  },
  {
   "cell_type": "markdown",
   "id": "847a879e-130c-4a16-ad5d-85d1fe98920d",
   "metadata": {},
   "source": [
    "### References\n",
    "\n",
    "**Dataset Source:** [Graduate Admissions](https://www.kaggle.com/datasets/mohansacharya/graduate-admissions)"
   ]
  }
 ],
 "metadata": {
  "kernelspec": {
   "display_name": "Python 3 (ipykernel)",
   "language": "python",
   "name": "python3"
  },
  "language_info": {
   "codemirror_mode": {
    "name": "ipython",
    "version": 3
   },
   "file_extension": ".py",
   "mimetype": "text/x-python",
   "name": "python",
   "nbconvert_exporter": "python",
   "pygments_lexer": "ipython3",
   "version": "3.11.7"
  }
 },
 "nbformat": 4,
 "nbformat_minor": 5
}
